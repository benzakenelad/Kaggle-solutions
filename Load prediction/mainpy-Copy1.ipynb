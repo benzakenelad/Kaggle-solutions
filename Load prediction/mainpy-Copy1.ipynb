{
 "cells": [
  {
   "cell_type": "code",
   "execution_count": 1,
   "metadata": {
    "collapsed": true
   },
   "outputs": [],
   "source": [
    "import numpy as np\n",
    "import pandas as pd\n",
    "import random as rnd"
   ]
  },
  {
   "cell_type": "code",
   "execution_count": 2,
   "metadata": {
    "collapsed": true
   },
   "outputs": [],
   "source": [
    "data = pd.read_csv(\"C:\\\\Users\\\\elad\\\\Desktop\\\\Kaggle\\\\Load prediction\\\\train.csv\")\n",
    "data = np.array(data)\n",
    "np.random.shuffle(data)"
   ]
  },
  {
   "cell_type": "code",
   "execution_count": 3,
   "metadata": {
    "collapsed": true
   },
   "outputs": [],
   "source": [
    "# Data completion\n",
    "dataSize = data.shape[0]\n",
    "\n",
    "for i in range(dataSize):\n",
    "    if data[i,12] == 'N':\n",
    "        data[i,12] = 0\n",
    "    elif data[i,12] == 'Y':\n",
    "        data[i,12] = 1\n",
    "    else:\n",
    "        print('WARNING IN DATA\\'s CLASS')\n",
    "\n",
    "\n",
    "# Co Applicant Income\n",
    "counter = 0\n",
    "for x in data[:,7]:\n",
    "    if x > 0:\n",
    "        counter += 1\n",
    "\n",
    "medianCoApplicantIncome = int(np.sum(data[:,7]) / counter) + 0.0\n",
    "\n",
    "for i in range(len(data[:,7])):\n",
    "    if data[i,7] == 0:\n",
    "        data[i,7] = medianCoApplicantIncome\n",
    "\n",
    "        \n",
    "# Loan Amount\n",
    "counter = 0\n",
    "sum = 0\n",
    "for x in data[:,8]:\n",
    "    if not np.isnan(x):\n",
    "        counter += 1\n",
    "        sum += x\n",
    "\n",
    "medianLoanAmount = int(sum / counter) + 0.0\n",
    "for i in range(len(data[:,8])):\n",
    "    if np.isnan(data[i,8]):\n",
    "        data[i,8] = medianLoanAmount\n",
    "        "
   ]
  },
  {
   "cell_type": "code",
   "execution_count": 4,
   "metadata": {
    "collapsed": true
   },
   "outputs": [],
   "source": [
    "# Cleaning Data Calculations\n",
    "maxApplicantIncome = np.max(data[:,6])\n",
    "minApplicantIncome = np.min(data[:,6])\n",
    "avgApplicantIncome = np.mean(data[:,6])\n",
    "maxCoApplicantIncome = np.max(data[:,7])\n",
    "minCoApplicantIncome = np.min(data[:,7])\n",
    "avgCoApplicantIncome = np.mean(data[:,7])\n",
    "maxLoanAmount = np.max(data[:,8])\n",
    "minLoanAmount = np.min(data[:,8])\n",
    "avgLoadAmount = np.mean(data[:,8])\n",
    "\n",
    "def clean_sample(sample):\n",
    "    #Gender\n",
    "    if sample[1] == 'Male':\n",
    "        sample[1] = 0\n",
    "    elif sample[1] == 'Female':\n",
    "        sample[1] = 1\n",
    "    else:\n",
    "        sample[1] = 0\n",
    "        if rnd.randint(1,5) == 1:\n",
    "            sample[1] = 1\n",
    "            \n",
    "    \n",
    "    #Married\n",
    "    if sample[2] == 'No':\n",
    "        sample[2] = 0\n",
    "    elif sample[2] == 'Yes':\n",
    "        sample[2] = 1\n",
    "    else:\n",
    "        sample[2] = rnd.randint(0,1)\n",
    "      \n",
    "    #Dependents\n",
    "    if sample[3] == '0':\n",
    "        sample[3] = 0.0\n",
    "    elif sample[3] == '1':\n",
    "        sample[3] = 1.0\n",
    "    elif sample[3] == '2':\n",
    "        sample[3] = 2.0\n",
    "    elif sample[3] == '3+':\n",
    "        sample[3] = 3.0\n",
    "    else:\n",
    "        if rnd.randint(1,4) != 1:\n",
    "            sample[3] = 0 \n",
    "        else:\n",
    "            sample[3] = rnd.randint(1,3)\n",
    "    \n",
    "    #Graduated\n",
    "    if sample[4] == 'Not Graduate':\n",
    "        sample[4] = 0\n",
    "    elif sample[4] == 'Graduate':\n",
    "        sample[4] = 1\n",
    "    else:\n",
    "        sample[4] = rnd.randint(0,1)\n",
    "        \n",
    "    #Self-Employed\n",
    "    if sample[5] == 'No':\n",
    "        sample[5] = 0\n",
    "    elif sample[5] == 'Yes':\n",
    "        sample[5] = 1\n",
    "    else:\n",
    "        sample[5] = 0\n",
    "        if rnd.randint(1,4) == 1:\n",
    "            sample[5] = 1\n",
    "        \n",
    "    #Applicant Income\n",
    "    sample[6] = (sample[6] - avgApplicantIncome) / (maxApplicantIncome - minApplicantIncome)\n",
    "    \n",
    "    #Co Applicant Income\n",
    "    sample[7] = (sample[7] - avgCoApplicantIncome) / (maxCoApplicantIncome - minCoApplicantIncome)\n",
    "    \n",
    "    # Loan Amount\n",
    "    sample[8] = (sample[8] - avgLoadAmount) / (maxLoanAmount - minLoanAmount)\n",
    "    \n",
    "    # Loan Amount Term\n",
    "    if sample[9] <= 120:\n",
    "        sample[9] = 0\n",
    "    elif sample[9] == 180 or sample[9] == 240:\n",
    "        sample[9] = 1\n",
    "    elif sample[9] == 360:\n",
    "        sample[9] = 2\n",
    "    elif sample[9] == 480:\n",
    "        sample[9] = 3\n",
    "    elif sample[9] == 300:\n",
    "        sample[9] = 4\n",
    "    else:\n",
    "        sample[9] = 2\n",
    "        if rnd.randint(1,4) == 1:\n",
    "             sample[9] = [0,1,3,4][rnd.randint(0,3)]\n",
    "        \n",
    "   \n",
    "    # Credit History\n",
    "    if np.isnan(sample[10]):\n",
    "        sample[10] = 1\n",
    "        if len(sample) == 13:\n",
    "            sample[10] = sample[12]\n",
    "        else:\n",
    "            if rnd.randint(1,5) == 1:\n",
    "                sample[10] = 0\n",
    "            \n",
    "    # Property Area\n",
    "    if sample[11] == 'Semiurban':\n",
    "        sample[11] = 0\n",
    "    elif sample[11] == 'Urban':\n",
    "        sample[11] = 1\n",
    "    elif sample[11] == 'Rural':\n",
    "        sample[11] = 2\n",
    "    else:\n",
    "        print(\"ERROR IN PROPERY HISTORY\")\n",
    "    \n",
    "    return sample"
   ]
  },
  {
   "cell_type": "code",
   "execution_count": 5,
   "metadata": {
    "collapsed": true
   },
   "outputs": [],
   "source": [
    "for x in data:\n",
    "    clean_sample(x)\n",
    "data = np.delete(data,3,1)"
   ]
  },
  {
   "cell_type": "code",
   "execution_count": 6,
   "metadata": {
    "collapsed": true
   },
   "outputs": [],
   "source": [
    "n = 500\n",
    "f_n = 11\n",
    "X_train = data[:n,1:f_n]\n",
    "Y_train = np.array(data[:n,f_n], dtype='int')\n",
    "X_test = data[n:, 1:f_n]\n",
    "Y_test = np.array(data[n:,f_n], dtype='int')"
   ]
  },
  {
   "cell_type": "code",
   "execution_count": 7,
   "metadata": {
    "collapsed": true
   },
   "outputs": [],
   "source": [
    "from sklearn.ensemble import RandomForestClassifier"
   ]
  },
  {
   "cell_type": "code",
   "execution_count": 8,
   "metadata": {},
   "outputs": [
    {
     "name": "stdout",
     "output_type": "stream",
     "text": [
      "Random Forest Train accuracy :  0.934\n",
      "Random Forest Test accuracy :  0.7631578947368421\n"
     ]
    },
    {
     "data": {
      "text/plain": [
       "array([0.00940545, 0.02353752, 0.01975353, 0.01298977, 0.16114701,\n",
       "       0.1110257 , 0.1357487 , 0.03639785, 0.4544761 , 0.03551837])"
      ]
     },
     "execution_count": 8,
     "metadata": {},
     "output_type": "execute_result"
    }
   ],
   "source": [
    "# Random Forest\n",
    "random_forest = RandomForestClassifier(n_estimators=100, max_depth=10,criterion='gini',max_features=(f_n-1))\n",
    "random_forest.fit(X_train, Y_train)\n",
    "acc_random_forest = random_forest.score(X_train, Y_train)\n",
    "print(\"Random Forest Train accuracy :  \" + str(acc_random_forest))\n",
    "acc_random_forest = random_forest.score(X_test, Y_test)\n",
    "print(\"Random Forest Test accuracy :  \" + str(acc_random_forest))\n",
    "random_forest.feature_importances_"
   ]
  },
  {
   "cell_type": "code",
   "execution_count": 9,
   "metadata": {
    "collapsed": true
   },
   "outputs": [],
   "source": [
    "test = pd.read_csv(\"C:\\\\Users\\\\elad\\\\Desktop\\\\Kaggle\\\\Load prediction\\\\test.csv\")\n",
    "test = np.array(test)"
   ]
  },
  {
   "cell_type": "code",
   "execution_count": 10,
   "metadata": {
    "collapsed": true
   },
   "outputs": [],
   "source": [
    "# Data completion\n",
    "\n",
    "for i in range(len(test[:,7])):\n",
    "    if test[i,7] == 0:\n",
    "        test[i,7] = medianCoApplicantIncome\n",
    "\n",
    "\n",
    "for i in range(len(test[:,8])):\n",
    "    if np.isnan(test[i,8]):\n",
    "        test[i,8] = medianLoanAmount\n",
    "        "
   ]
  },
  {
   "cell_type": "code",
   "execution_count": 12,
   "metadata": {},
   "outputs": [
    {
     "data": {
      "text/plain": [
       "(367, 12)"
      ]
     },
     "execution_count": 12,
     "metadata": {},
     "output_type": "execute_result"
    }
   ],
   "source": [
    "np.shape(test)"
   ]
  },
  {
   "cell_type": "code",
   "execution_count": 13,
   "metadata": {
    "collapsed": true
   },
   "outputs": [],
   "source": [
    "for x in test:\n",
    "    clean_sample(x)\n",
    "test = np.delete(test,3,1)"
   ]
  },
  {
   "cell_type": "code",
   "execution_count": 14,
   "metadata": {},
   "outputs": [
    {
     "data": {
      "text/plain": [
       "(367, 11)"
      ]
     },
     "execution_count": 14,
     "metadata": {},
     "output_type": "execute_result"
    }
   ],
   "source": [
    "np.shape(test)"
   ]
  },
  {
   "cell_type": "code",
   "execution_count": 246,
   "metadata": {},
   "outputs": [
    {
     "data": {
      "text/html": [
       "<div>\n",
       "<style scoped>\n",
       "    .dataframe tbody tr th:only-of-type {\n",
       "        vertical-align: middle;\n",
       "    }\n",
       "\n",
       "    .dataframe tbody tr th {\n",
       "        vertical-align: top;\n",
       "    }\n",
       "\n",
       "    .dataframe thead th {\n",
       "        text-align: right;\n",
       "    }\n",
       "</style>\n",
       "<table border=\"1\" class=\"dataframe\">\n",
       "  <thead>\n",
       "    <tr style=\"text-align: right;\">\n",
       "      <th></th>\n",
       "      <th>0</th>\n",
       "      <th>1</th>\n",
       "      <th>2</th>\n",
       "      <th>3</th>\n",
       "      <th>4</th>\n",
       "      <th>5</th>\n",
       "      <th>6</th>\n",
       "      <th>7</th>\n",
       "      <th>8</th>\n",
       "      <th>9</th>\n",
       "      <th>10</th>\n",
       "    </tr>\n",
       "  </thead>\n",
       "  <tbody>\n",
       "    <tr>\n",
       "      <th>0</th>\n",
       "      <td>LP001015</td>\n",
       "      <td>0</td>\n",
       "      <td>1</td>\n",
       "      <td>1</td>\n",
       "      <td>0</td>\n",
       "      <td>0.00391516</td>\n",
       "      <td>-2.57765e-06</td>\n",
       "      <td>-0.0526735</td>\n",
       "      <td>2</td>\n",
       "      <td>1</td>\n",
       "      <td>1</td>\n",
       "    </tr>\n",
       "    <tr>\n",
       "      <th>1</th>\n",
       "      <td>LP001022</td>\n",
       "      <td>0</td>\n",
       "      <td>1</td>\n",
       "      <td>1</td>\n",
       "      <td>0</td>\n",
       "      <td>-0.0287874</td>\n",
       "      <td>-0.0340715</td>\n",
       "      <td>-0.0295187</td>\n",
       "      <td>2</td>\n",
       "      <td>1</td>\n",
       "      <td>1</td>\n",
       "    </tr>\n",
       "    <tr>\n",
       "      <th>2</th>\n",
       "      <td>LP001031</td>\n",
       "      <td>0</td>\n",
       "      <td>1</td>\n",
       "      <td>1</td>\n",
       "      <td>0</td>\n",
       "      <td>-0.00499022</td>\n",
       "      <td>-0.0268688</td>\n",
       "      <td>0.0891499</td>\n",
       "      <td>2</td>\n",
       "      <td>1</td>\n",
       "      <td>1</td>\n",
       "    </tr>\n",
       "    <tr>\n",
       "      <th>3</th>\n",
       "      <td>LP001035</td>\n",
       "      <td>0</td>\n",
       "      <td>1</td>\n",
       "      <td>1</td>\n",
       "      <td>0</td>\n",
       "      <td>-0.0378907</td>\n",
       "      <td>-0.00895797</td>\n",
       "      <td>-0.0671453</td>\n",
       "      <td>2</td>\n",
       "      <td>1</td>\n",
       "      <td>1</td>\n",
       "    </tr>\n",
       "    <tr>\n",
       "      <th>4</th>\n",
       "      <td>LP001051</td>\n",
       "      <td>0</td>\n",
       "      <td>0</td>\n",
       "      <td>0</td>\n",
       "      <td>0</td>\n",
       "      <td>-0.0263137</td>\n",
       "      <td>-2.57765e-06</td>\n",
       "      <td>-0.0989832</td>\n",
       "      <td>2</td>\n",
       "      <td>1</td>\n",
       "      <td>1</td>\n",
       "    </tr>\n",
       "    <tr>\n",
       "      <th>5</th>\n",
       "      <td>LP001054</td>\n",
       "      <td>0</td>\n",
       "      <td>1</td>\n",
       "      <td>0</td>\n",
       "      <td>1</td>\n",
       "      <td>-0.0400552</td>\n",
       "      <td>0.012074</td>\n",
       "      <td>0.00810797</td>\n",
       "      <td>2</td>\n",
       "      <td>1</td>\n",
       "      <td>1</td>\n",
       "    </tr>\n",
       "    <tr>\n",
       "      <th>6</th>\n",
       "      <td>LP001055</td>\n",
       "      <td>1</td>\n",
       "      <td>0</td>\n",
       "      <td>0</td>\n",
       "      <td>0</td>\n",
       "      <td>-0.0393007</td>\n",
       "      <td>-2.57765e-06</td>\n",
       "      <td>-0.12648</td>\n",
       "      <td>2</td>\n",
       "      <td>1</td>\n",
       "      <td>0</td>\n",
       "    </tr>\n",
       "    <tr>\n",
       "      <th>7</th>\n",
       "      <td>LP001056</td>\n",
       "      <td>0</td>\n",
       "      <td>1</td>\n",
       "      <td>0</td>\n",
       "      <td>0</td>\n",
       "      <td>-0.0188307</td>\n",
       "      <td>-2.57765e-06</td>\n",
       "      <td>0.000872078</td>\n",
       "      <td>2</td>\n",
       "      <td>0</td>\n",
       "      <td>2</td>\n",
       "    </tr>\n",
       "    <tr>\n",
       "      <th>8</th>\n",
       "      <td>LP001059</td>\n",
       "      <td>0</td>\n",
       "      <td>1</td>\n",
       "      <td>1</td>\n",
       "      <td>0</td>\n",
       "      <td>0.101788</td>\n",
       "      <td>-2.57765e-06</td>\n",
       "      <td>0.193347</td>\n",
       "      <td>1</td>\n",
       "      <td>1</td>\n",
       "      <td>1</td>\n",
       "    </tr>\n",
       "    <tr>\n",
       "      <th>9</th>\n",
       "      <td>LP001067</td>\n",
       "      <td>0</td>\n",
       "      <td>0</td>\n",
       "      <td>0</td>\n",
       "      <td>0</td>\n",
       "      <td>-0.0371485</td>\n",
       "      <td>-0.0124633</td>\n",
       "      <td>-0.0338602</td>\n",
       "      <td>2</td>\n",
       "      <td>1</td>\n",
       "      <td>0</td>\n",
       "    </tr>\n",
       "  </tbody>\n",
       "</table>\n",
       "</div>"
      ],
      "text/plain": [
       "         0  1  2  3  4           5            6            7  8  9  10\n",
       "0  LP001015  0  1  1  0  0.00391516 -2.57765e-06   -0.0526735  2  1  1\n",
       "1  LP001022  0  1  1  0  -0.0287874   -0.0340715   -0.0295187  2  1  1\n",
       "2  LP001031  0  1  1  0 -0.00499022   -0.0268688    0.0891499  2  1  1\n",
       "3  LP001035  0  1  1  0  -0.0378907  -0.00895797   -0.0671453  2  1  1\n",
       "4  LP001051  0  0  0  0  -0.0263137 -2.57765e-06   -0.0989832  2  1  1\n",
       "5  LP001054  0  1  0  1  -0.0400552     0.012074   0.00810797  2  1  1\n",
       "6  LP001055  1  0  0  0  -0.0393007 -2.57765e-06     -0.12648  2  1  0\n",
       "7  LP001056  0  1  0  0  -0.0188307 -2.57765e-06  0.000872078  2  0  2\n",
       "8  LP001059  0  1  1  0    0.101788 -2.57765e-06     0.193347  1  1  1\n",
       "9  LP001067  0  0  0  0  -0.0371485   -0.0124633   -0.0338602  2  1  0"
      ]
     },
     "execution_count": 246,
     "metadata": {},
     "output_type": "execute_result"
    }
   ],
   "source": [
    "pd.DataFrame(test[:10])"
   ]
  },
  {
   "cell_type": "code",
   "execution_count": 15,
   "metadata": {
    "collapsed": true
   },
   "outputs": [],
   "source": [
    "prediction = random_forest.predict(test[:,1:])"
   ]
  },
  {
   "cell_type": "code",
   "execution_count": 16,
   "metadata": {
    "collapsed": true
   },
   "outputs": [],
   "source": [
    "arr = np.zeros([367,2], dtype='object')\n",
    "arr[0]\n",
    "\n",
    "for i in range(367):\n",
    "    arr[i,0] = test[i,0]\n",
    "    if prediction[i] == 0:\n",
    "        arr[i,1] = 'N'\n",
    "    else:\n",
    "        arr[i,1] = 'Y'"
   ]
  },
  {
   "cell_type": "code",
   "execution_count": 17,
   "metadata": {
    "collapsed": true
   },
   "outputs": [],
   "source": [
    "df = pd.DataFrame(arr)"
   ]
  },
  {
   "cell_type": "code",
   "execution_count": 18,
   "metadata": {
    "collapsed": true
   },
   "outputs": [],
   "source": [
    "df.to_csv('results.csv')"
   ]
  },
  {
   "cell_type": "code",
   "execution_count": 19,
   "metadata": {},
   "outputs": [
    {
     "data": {
      "text/html": [
       "<div>\n",
       "<style scoped>\n",
       "    .dataframe tbody tr th:only-of-type {\n",
       "        vertical-align: middle;\n",
       "    }\n",
       "\n",
       "    .dataframe tbody tr th {\n",
       "        vertical-align: top;\n",
       "    }\n",
       "\n",
       "    .dataframe thead th {\n",
       "        text-align: right;\n",
       "    }\n",
       "</style>\n",
       "<table border=\"1\" class=\"dataframe\">\n",
       "  <thead>\n",
       "    <tr style=\"text-align: right;\">\n",
       "      <th></th>\n",
       "      <th>0</th>\n",
       "      <th>1</th>\n",
       "    </tr>\n",
       "  </thead>\n",
       "  <tbody>\n",
       "    <tr>\n",
       "      <th>0</th>\n",
       "      <td>LP001015</td>\n",
       "      <td>Y</td>\n",
       "    </tr>\n",
       "    <tr>\n",
       "      <th>1</th>\n",
       "      <td>LP001022</td>\n",
       "      <td>Y</td>\n",
       "    </tr>\n",
       "    <tr>\n",
       "      <th>2</th>\n",
       "      <td>LP001031</td>\n",
       "      <td>Y</td>\n",
       "    </tr>\n",
       "    <tr>\n",
       "      <th>3</th>\n",
       "      <td>LP001035</td>\n",
       "      <td>N</td>\n",
       "    </tr>\n",
       "    <tr>\n",
       "      <th>4</th>\n",
       "      <td>LP001051</td>\n",
       "      <td>Y</td>\n",
       "    </tr>\n",
       "    <tr>\n",
       "      <th>5</th>\n",
       "      <td>LP001054</td>\n",
       "      <td>Y</td>\n",
       "    </tr>\n",
       "    <tr>\n",
       "      <th>6</th>\n",
       "      <td>LP001055</td>\n",
       "      <td>Y</td>\n",
       "    </tr>\n",
       "    <tr>\n",
       "      <th>7</th>\n",
       "      <td>LP001056</td>\n",
       "      <td>N</td>\n",
       "    </tr>\n",
       "    <tr>\n",
       "      <th>8</th>\n",
       "      <td>LP001059</td>\n",
       "      <td>Y</td>\n",
       "    </tr>\n",
       "    <tr>\n",
       "      <th>9</th>\n",
       "      <td>LP001067</td>\n",
       "      <td>Y</td>\n",
       "    </tr>\n",
       "  </tbody>\n",
       "</table>\n",
       "</div>"
      ],
      "text/plain": [
       "          0  1\n",
       "0  LP001015  Y\n",
       "1  LP001022  Y\n",
       "2  LP001031  Y\n",
       "3  LP001035  N\n",
       "4  LP001051  Y\n",
       "5  LP001054  Y\n",
       "6  LP001055  Y\n",
       "7  LP001056  N\n",
       "8  LP001059  Y\n",
       "9  LP001067  Y"
      ]
     },
     "execution_count": 19,
     "metadata": {},
     "output_type": "execute_result"
    }
   ],
   "source": [
    "pd.DataFrame(arr[0:10])"
   ]
  },
  {
   "cell_type": "code",
   "execution_count": null,
   "metadata": {
    "collapsed": true
   },
   "outputs": [],
   "source": []
  }
 ],
 "metadata": {
  "kernelspec": {
   "display_name": "Python 3",
   "language": "python",
   "name": "python3"
  },
  "language_info": {
   "codemirror_mode": {
    "name": "ipython",
    "version": 3
   },
   "file_extension": ".py",
   "mimetype": "text/x-python",
   "name": "python",
   "nbconvert_exporter": "python",
   "pygments_lexer": "ipython3",
   "version": "3.6.3"
  }
 },
 "nbformat": 4,
 "nbformat_minor": 2
}
