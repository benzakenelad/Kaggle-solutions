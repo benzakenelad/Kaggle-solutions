{
 "cells": [
  {
   "cell_type": "code",
   "execution_count": 685,
   "metadata": {
    "collapsed": true
   },
   "outputs": [],
   "source": [
    "import numpy as np\n",
    "import pandas as pd\n",
    "import random as rnd"
   ]
  },
  {
   "cell_type": "code",
   "execution_count": 686,
   "metadata": {},
   "outputs": [],
   "source": [
    "data = pd.read_csv(\"C:\\\\Users\\\\elad\\\\Desktop\\\\Kaggle\\\\Load prediction\\\\train.csv\")\n",
    "data = np.array(data)\n",
    "np.random.shuffle(data)"
   ]
  },
  {
   "cell_type": "code",
   "execution_count": 687,
   "metadata": {},
   "outputs": [],
   "source": [
    "# Data completion\n",
    "dataSize = data.shape[0]\n",
    "\n",
    "for i in range(dataSize):\n",
    "    if data[i,12] == 'N':\n",
    "        data[i,12] = 0\n",
    "    elif data[i,12] == 'Y':\n",
    "        data[i,12] = 1\n",
    "    else:\n",
    "        print('WARNING IN DATA\\'s CLASS')\n",
    "\n",
    "\n",
    "# Co Applicant Income\n",
    "counter = 0\n",
    "for x in data[:,7]:\n",
    "    if x > 0:\n",
    "        counter += 1\n",
    "\n",
    "medianCoApplicantIncome = int(np.sum(data[:,7]) / counter) + 0.0\n",
    "\n",
    "for i in range(len(data[:,7])):\n",
    "    if data[i,7] == 0:\n",
    "        data[i,7] = medianCoApplicantIncome\n",
    "\n",
    "        \n",
    "# Loan Amount\n",
    "counter = 0\n",
    "sum = 0\n",
    "for x in data[:,8]:\n",
    "    if not np.isnan(x):\n",
    "        counter += 1\n",
    "        sum += x\n",
    "\n",
    "medianLoanAmount = int(sum / counter) + 0.0\n",
    "for i in range(len(data[:,8])):\n",
    "    if np.isnan(data[i,8]):\n",
    "        data[i,8] = medianLoanAmount\n",
    "        "
   ]
  },
  {
   "cell_type": "code",
   "execution_count": 688,
   "metadata": {},
   "outputs": [],
   "source": [
    "# Cleaning Data Calculations\n",
    "maxApplicantIncome = 20000\n",
    "minApplicantIncome = np.min(data[:,6])\n",
    "maxCoApplicantIncome = 8000\n",
    "minCoApplicantIncome = np.min(data[:,7])\n",
    "maxLoanAmount = 450\n",
    "minLoanAmount = np.min(data[:,8])\n",
    "\n",
    "def clean_sample(sample):\n",
    "    #Gender\n",
    "    if sample[1] == 'Male':\n",
    "        sample[1] = 0\n",
    "    elif sample[1] == 'Female':\n",
    "        sample[1] = 1\n",
    "    else:\n",
    "        sample[1] = 0\n",
    "        if rnd.randint(1,5) == 1:\n",
    "            sample[1] = 1\n",
    "            \n",
    "    \n",
    "    #Married\n",
    "    if sample[2] == 'No':\n",
    "        sample[2] = 0\n",
    "    elif sample[2] == 'Yes':\n",
    "        sample[2] = 1\n",
    "    else:\n",
    "        sample[2] = rnd.randint(0,1)\n",
    "      \n",
    "    #Dependents\n",
    "    if sample[3] == '0':\n",
    "        sample[3] = 0.0\n",
    "    elif sample[3] == '1':\n",
    "        sample[3] = 1.0\n",
    "    elif sample[3] == '2':\n",
    "        sample[3] = 2.0\n",
    "    elif sample[3] == '3+':\n",
    "        sample[3] = 3.0\n",
    "    else:\n",
    "        if rnd.randint(1,4) != 1:\n",
    "            sample[3] = 0 \n",
    "        else:\n",
    "            sample[3] = rnd.randint(1,3)\n",
    "    \n",
    "    #Graduated\n",
    "    if sample[4] == 'Not Graduate':\n",
    "        sample[4] = 0\n",
    "    elif sample[4] == 'Graduate':\n",
    "        sample[4] = 1\n",
    "    else:\n",
    "        sample[4] = rnd.randint(0,1)\n",
    "        \n",
    "    #Self-Employed\n",
    "    if sample[5] == 'No':\n",
    "        sample[5] = 0\n",
    "    elif sample[5] == 'Yes':\n",
    "        sample[5] = 1\n",
    "    else:\n",
    "        sample[5] = 0\n",
    "        if rnd.randint(1,4) == 1:\n",
    "            sample[5] = 1\n",
    "        \n",
    "    #Applicant Income\n",
    "    sample[6] = (sample[6] - minApplicantIncome) / (maxApplicantIncome - minApplicantIncome)\n",
    "    \n",
    "    #Co Applicant Income\n",
    "    sample[7] = (sample[7] - minCoApplicantIncome) / (maxCoApplicantIncome - minCoApplicantIncome)\n",
    "    \n",
    "    # Loan Amount\n",
    "    sample[8] = (sample[8] - minLoanAmount) / (maxLoanAmount - minLoanAmount)\n",
    "    \n",
    "    # Loan Amount Term\n",
    "    if sample[9] <= 120:\n",
    "        sample[9] = 0\n",
    "    elif sample[9] == 180 or sample[9] == 240:\n",
    "        sample[9] = 1\n",
    "    elif sample[9] == 360:\n",
    "        sample[9] = 2\n",
    "    elif sample[9] == 480:\n",
    "        sample[9] = 3\n",
    "    elif sample[9] == 300:\n",
    "        sample[9] = 4\n",
    "    else:\n",
    "        sample[9] = 2\n",
    "        if rnd.randint(1,4) == 1:\n",
    "             sample[9] = [0,1,3,4][rnd.randint(0,3)]\n",
    "        \n",
    "   \n",
    "    # Credit History\n",
    "    if len(sample) == 13:\n",
    "        if np.isnan(sample[10]):\n",
    "            sample[10] = sample[12]\n",
    "            \n",
    "    # Property Area\n",
    "    if sample[11] == 'Semiurban':\n",
    "        sample[11] = 0\n",
    "    elif sample[11] == 'Urban':\n",
    "        sample[11] = 1\n",
    "    elif sample[11] == 'Rural':\n",
    "        sample[11] = 2\n",
    "    else:\n",
    "        print(\"ERROR IN PROPERY HISTORY\")\n",
    "    \n",
    "    temp = []\n",
    "    \n",
    "    leng = len(sample) - 2\n",
    "    for i in range(1,1+leng):\n",
    "        for j in range(1,1+leng):\n",
    "            temp.append(sample[i]*sample[j])\n",
    "    \n",
    "    return np.array(temp)"
   ]
  },
  {
   "cell_type": "code",
   "execution_count": 689,
   "metadata": {},
   "outputs": [],
   "source": [
    "newData = np.array([clean_sample(x) for x in data])\n",
    "#data = np.delete(data,3,1)"
   ]
  },
  {
   "cell_type": "code",
   "execution_count": 690,
   "metadata": {},
   "outputs": [],
   "source": [
    "n = 550\n",
    "f_n = 121\n",
    "X_train = newData[:n]\n",
    "Y_train = np.array(data[:n,12], dtype='int')\n",
    "X_test = newData[n:]\n",
    "Y_test = np.array(data[n:,12], dtype='int')"
   ]
  },
  {
   "cell_type": "code",
   "execution_count": 691,
   "metadata": {
    "collapsed": true
   },
   "outputs": [],
   "source": [
    "from sklearn.ensemble import RandomForestClassifier"
   ]
  },
  {
   "cell_type": "code",
   "execution_count": 693,
   "metadata": {},
   "outputs": [
    {
     "name": "stdout",
     "output_type": "stream",
     "text": [
      "Random Forest Train accuracy :  0.9727272727272728\n",
      "Random Forest Test accuracy :  0.84375\n"
     ]
    },
    {
     "data": {
      "text/plain": [
       "array([4.26832671e-05, 1.04016419e-03, 1.27604953e-03, 6.34778702e-04,\n",
       "       8.65522589e-04, 2.58238332e-03, 7.41781447e-04, 6.54325938e-03,\n",
       "       9.48663113e-04, 2.31200723e-04, 2.13792954e-03, 6.59253936e-04,\n",
       "       1.20506673e-04, 1.53119481e-03, 1.54085235e-03, 4.50993298e-04,\n",
       "       1.10804620e-02, 9.44389865e-03, 8.79645139e-03, 1.42172559e-03,\n",
       "       1.96663277e-04, 1.12810578e-03, 7.35574369e-04, 1.80961155e-03,\n",
       "       7.18343954e-04, 1.85022673e-03, 1.04931592e-03, 6.91586844e-03,\n",
       "       5.32513746e-03, 7.36030932e-03, 1.60611151e-03, 9.07981895e-04,\n",
       "       1.51613399e-03, 9.51862746e-04, 2.67354486e-03, 2.06481117e-03,\n",
       "       2.63950039e-04, 2.08941027e-04, 1.16749926e-02, 5.86579548e-03,\n",
       "       1.11634950e-02, 4.33216852e-03, 5.05203527e-04, 1.40927804e-03,\n",
       "       6.02077769e-04, 1.79562516e-04, 7.65706508e-04, 4.25284001e-04,\n",
       "       4.57537721e-04, 2.94453691e-03, 1.67892565e-03, 1.57336330e-03,\n",
       "       1.75062646e-03, 3.02420093e-04, 9.93655000e-04, 4.43112050e-03,\n",
       "       8.61199786e-03, 7.81257634e-03, 1.29736424e-02, 2.37764994e-03,\n",
       "       9.57177488e-03, 1.24391565e-02, 1.64826811e-02, 1.91327960e-02,\n",
       "       8.39636845e-02, 1.55739031e-02, 1.28306273e-03, 8.88646693e-03,\n",
       "       5.81790684e-03, 8.74845805e-03, 1.93985448e-03, 1.28213776e-02,\n",
       "       8.33631577e-03, 1.89525236e-02, 1.19389266e-02, 8.44290754e-03,\n",
       "       2.11456150e-02, 5.47979798e-03, 5.57719102e-03, 8.05243194e-03,\n",
       "       1.07631193e-02, 2.45139207e-03, 1.41856549e-02, 2.14625696e-02,\n",
       "       8.27558689e-03, 1.41662562e-02, 1.36197688e-01, 1.55940881e-02,\n",
       "       1.79079799e-03, 1.74443691e-03, 1.64504009e-03, 3.52936049e-03,\n",
       "       9.70466897e-04, 1.91219788e-02, 1.16075407e-02, 1.41328406e-02,\n",
       "       2.52024416e-03, 1.28587190e-03, 1.39818358e-03, 5.52838133e-05,\n",
       "       3.87983446e-04, 5.31590709e-04, 5.19666833e-04, 2.33718103e-04,\n",
       "       5.04239988e-02, 1.05011398e-02, 1.26360997e-01, 1.38420043e-03,\n",
       "       1.45712277e-02, 4.33319823e-04, 2.51784447e-03, 1.16443023e-03,\n",
       "       1.61888059e-03, 1.22100067e-03, 4.34012308e-04, 1.05584809e-02,\n",
       "       2.06108372e-02, 1.42835506e-02, 1.09658234e-03, 4.05010107e-04,\n",
       "       1.05242963e-03])"
      ]
     },
     "execution_count": 693,
     "metadata": {},
     "output_type": "execute_result"
    }
   ],
   "source": [
    "# Random Forest\n",
    "random_forest = RandomForestClassifier(n_estimators=100, max_depth=10,criterion='gini',max_features=f_n)\n",
    "random_forest.fit(X_train, Y_train)\n",
    "acc_random_forest = random_forest.score(X_train, Y_train)\n",
    "print(\"Random Forest Train accuracy :  \" + str(acc_random_forest))\n",
    "acc_random_forest = random_forest.score(X_test, Y_test)\n",
    "print(\"Random Forest Test accuracy :  \" + str(acc_random_forest))\n",
    "random_forest.feature_importances_"
   ]
  },
  {
   "cell_type": "code",
   "execution_count": null,
   "metadata": {
    "collapsed": true
   },
   "outputs": [],
   "source": []
  }
 ],
 "metadata": {
  "kernelspec": {
   "display_name": "Python 3",
   "language": "python",
   "name": "python3"
  },
  "language_info": {
   "codemirror_mode": {
    "name": "ipython",
    "version": 3
   },
   "file_extension": ".py",
   "mimetype": "text/x-python",
   "name": "python",
   "nbconvert_exporter": "python",
   "pygments_lexer": "ipython3",
   "version": "3.6.3"
  }
 },
 "nbformat": 4,
 "nbformat_minor": 2
}
