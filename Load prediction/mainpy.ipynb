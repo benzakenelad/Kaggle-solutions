{
 "cells": [
  {
   "cell_type": "code",
   "execution_count": 866,
   "metadata": {
    "collapsed": true
   },
   "outputs": [],
   "source": [
    "import numpy as np\n",
    "import pandas as pd\n",
    "import random as rnd"
   ]
  },
  {
   "cell_type": "code",
   "execution_count": 867,
   "metadata": {},
   "outputs": [],
   "source": [
    "data = pd.read_csv(\"C:\\\\Users\\\\elad\\\\Desktop\\\\Kaggle\\\\Load prediction\\\\train.csv\")\n",
    "data = np.array(data)\n",
    "np.random.shuffle(data)"
   ]
  },
  {
   "cell_type": "code",
   "execution_count": 868,
   "metadata": {},
   "outputs": [],
   "source": [
    "# Data completion\n",
    "dataSize = data.shape[0]\n",
    "\n",
    "for i in range(dataSize):\n",
    "    if data[i,12] == 'N':\n",
    "        data[i,12] = 0\n",
    "    elif data[i,12] == 'Y':\n",
    "        data[i,12] = 1\n",
    "    else:\n",
    "        print('WARNING IN DATA\\'s CLASS')\n",
    "\n",
    "\n",
    "# Co Applicant Income\n",
    "counter = 0\n",
    "for x in data[:,7]:\n",
    "    if x > 0:\n",
    "        counter += 1\n",
    "\n",
    "medianCoApplicantIncome = int(np.sum(data[:,7]) / counter) + 0.0\n",
    "\n",
    "for i in range(len(data[:,7])):\n",
    "    if data[i,7] == 0:\n",
    "        data[i,7] = medianCoApplicantIncome\n",
    "\n",
    "        \n",
    "# Loan Amount\n",
    "counter = 0\n",
    "sum = 0\n",
    "for x in data[:,8]:\n",
    "    if not np.isnan(x):\n",
    "        counter += 1\n",
    "        sum += x\n",
    "\n",
    "medianLoanAmount = int(sum / counter) + 0.0\n",
    "for i in range(len(data[:,8])):\n",
    "    if np.isnan(data[i,8]):\n",
    "        data[i,8] = medianLoanAmount\n",
    "        "
   ]
  },
  {
   "cell_type": "code",
   "execution_count": 869,
   "metadata": {},
   "outputs": [],
   "source": [
    "# Cleaning Data Calculations\n",
    "maxApplicantIncome = 20000\n",
    "minApplicantIncome = np.min(data[:,6])\n",
    "maxCoApplicantIncome = 8000\n",
    "minCoApplicantIncome = np.min(data[:,7])\n",
    "maxLoanAmount = 450\n",
    "minLoanAmount = np.min(data[:,8])\n",
    "\n",
    "def clean_sample(sample):\n",
    "    #Gender\n",
    "    if sample[1] == 'Male':\n",
    "        sample[1] = 0\n",
    "    elif sample[1] == 'Female':\n",
    "        sample[1] = 1\n",
    "    else:\n",
    "        sample[1] = 0\n",
    "        if rnd.randint(1,5) == 1:\n",
    "            sample[1] = 1\n",
    "            \n",
    "    \n",
    "    #Married\n",
    "    if sample[2] == 'No':\n",
    "        sample[2] = 0\n",
    "    elif sample[2] == 'Yes':\n",
    "        sample[2] = 1\n",
    "    else:\n",
    "        sample[2] = rnd.randint(0,1)\n",
    "      \n",
    "    #Dependents\n",
    "    if sample[3] == '0':\n",
    "        sample[3] = 0.0\n",
    "    elif sample[3] == '1':\n",
    "        sample[3] = 1.0\n",
    "    elif sample[3] == '2':\n",
    "        sample[3] = 2.0\n",
    "    elif sample[3] == '3+':\n",
    "        sample[3] = 3.0\n",
    "    else:\n",
    "        if rnd.randint(1,4) != 1:\n",
    "            sample[3] = 0 \n",
    "        else:\n",
    "            sample[3] = rnd.randint(1,3)\n",
    "    \n",
    "    #Graduated\n",
    "    if sample[4] == 'Not Graduate':\n",
    "        sample[4] = 0\n",
    "    elif sample[4] == 'Graduate':\n",
    "        sample[4] = 1\n",
    "    else:\n",
    "        sample[4] = rnd.randint(0,1)\n",
    "        \n",
    "    #Self-Employed\n",
    "    if sample[5] == 'No':\n",
    "        sample[5] = 0\n",
    "    elif sample[5] == 'Yes':\n",
    "        sample[5] = 1\n",
    "    else:\n",
    "        sample[5] = 0\n",
    "        if rnd.randint(1,4) == 1:\n",
    "            sample[5] = 1\n",
    "        \n",
    "    #Applicant Income\n",
    "    sample[6] = (sample[6] - minApplicantIncome) / (maxApplicantIncome - minApplicantIncome)\n",
    "    \n",
    "    #Co Applicant Income\n",
    "    sample[7] = (sample[7] - minCoApplicantIncome) / (maxCoApplicantIncome - minCoApplicantIncome)\n",
    "    \n",
    "    # Loan Amount\n",
    "    sample[8] = (sample[8] - minLoanAmount) / (maxLoanAmount - minLoanAmount)\n",
    "    \n",
    "    # Loan Amount Term\n",
    "    if sample[9] <= 120:\n",
    "        sample[9] = 0\n",
    "    elif sample[9] == 180 or sample[9] == 240:\n",
    "        sample[9] = 1\n",
    "    elif sample[9] == 360:\n",
    "        sample[9] = 2\n",
    "    elif sample[9] == 480:\n",
    "        sample[9] = 3\n",
    "    elif sample[9] == 300:\n",
    "        sample[9] = 4\n",
    "    else:\n",
    "        sample[9] = 2\n",
    "        if rnd.randint(1,4) == 1:\n",
    "             sample[9] = [0,1,3,4][rnd.randint(0,3)]\n",
    "        \n",
    "   \n",
    "    # Credit History\n",
    "    if np.isnan(sample[10]):\n",
    "        sample[10] = 1\n",
    "        if len(sample) == 13:\n",
    "            sample[10] = sample[12]\n",
    "        else:\n",
    "            if rnd.randint(1,5) == 1:\n",
    "                sample[10] = 0\n",
    "            \n",
    "    # Property Area\n",
    "    if sample[11] == 'Semiurban':\n",
    "        sample[11] = 0\n",
    "    elif sample[11] == 'Urban':\n",
    "        sample[11] = 1\n",
    "    elif sample[11] == 'Rural':\n",
    "        sample[11] = 2\n",
    "    else:\n",
    "        print(\"ERROR IN PROPERY HISTORY\")\n",
    "    \n",
    "    temp = []\n",
    "    \n",
    "    leng = 11\n",
    "    for i in range(1,1+leng):\n",
    "        for j in range(1,1+leng):\n",
    "            temp.append(sample[i]*sample[j])\n",
    "    \n",
    "    return np.array(temp)"
   ]
  },
  {
   "cell_type": "code",
   "execution_count": 870,
   "metadata": {},
   "outputs": [],
   "source": [
    "newData = np.array([clean_sample(x) for x in data])\n",
    "#data = np.delete(data,3,1)"
   ]
  },
  {
   "cell_type": "code",
   "execution_count": 871,
   "metadata": {},
   "outputs": [],
   "source": [
    "n = 520\n",
    "f_n = 121\n",
    "X_train = newData[:n]\n",
    "Y_train = np.array(data[:n,12], dtype='int')\n",
    "X_test = newData[n:]\n",
    "Y_test = np.array(data[n:,12], dtype='int')"
   ]
  },
  {
   "cell_type": "code",
   "execution_count": 872,
   "metadata": {
    "collapsed": true
   },
   "outputs": [],
   "source": [
    "from sklearn.svm import SVC"
   ]
  },
  {
   "cell_type": "code",
   "execution_count": 873,
   "metadata": {},
   "outputs": [
    {
     "name": "stdout",
     "output_type": "stream",
     "text": [
      "Linear SVC Train accuracy :  0.8326923076923077\n",
      "Linear SVC Test accuracy :  0.851063829787234\n"
     ]
    }
   ],
   "source": [
    "# Linear SVC\n",
    "linear_svc = SVC(degree=3)\n",
    "linear_svc.fit(X_train, Y_train)\n",
    "acc_linear_svc = linear_svc.score(X_train, Y_train)\n",
    "print(\"Linear SVC Train accuracy :  \" + str(acc_linear_svc))\n",
    "acc_linear_svc = linear_svc.score(X_test, Y_test)\n",
    "print(\"Linear SVC Test accuracy :  \" + str(acc_linear_svc))"
   ]
  },
  {
   "cell_type": "code",
   "execution_count": 803,
   "metadata": {},
   "outputs": [],
   "source": [
    "test = pd.read_csv(\"C:\\\\Users\\\\elad\\\\Desktop\\\\Kaggle\\\\Load prediction\\\\test.csv\")\n",
    "test = np.array(test)\n",
    "np.random.shuffle(test)"
   ]
  },
  {
   "cell_type": "code",
   "execution_count": 804,
   "metadata": {
    "collapsed": true
   },
   "outputs": [],
   "source": [
    "# Data completion\n",
    "dataSize = test.shape[0]\n",
    "\n",
    "\n",
    "for i in range(len(test[:,7])):\n",
    "    if test[i,7] == 0:\n",
    "        test[i,7] = medianCoApplicantIncome\n",
    "\n",
    "\n",
    "for i in range(len(test[:,8])):\n",
    "    if np.isnan(test[i,8]):\n",
    "        test[i,8] = medianLoanAmount\n",
    "        "
   ]
  },
  {
   "cell_type": "code",
   "execution_count": 805,
   "metadata": {
    "collapsed": true
   },
   "outputs": [],
   "source": [
    "test = np.array([clean_sample(x) for x in test])"
   ]
  },
  {
   "cell_type": "code",
   "execution_count": 806,
   "metadata": {},
   "outputs": [
    {
     "ename": "ValueError",
     "evalue": "X.shape[1] = 100 should be equal to 121, the number of features at training time",
     "output_type": "error",
     "traceback": [
      "\u001b[1;31m---------------------------------------------------------------------------\u001b[0m",
      "\u001b[1;31mValueError\u001b[0m                                Traceback (most recent call last)",
      "\u001b[1;32m<ipython-input-806-db37cba1012a>\u001b[0m in \u001b[0;36m<module>\u001b[1;34m()\u001b[0m\n\u001b[1;32m----> 1\u001b[1;33m \u001b[0mtest_prediction\u001b[0m \u001b[1;33m=\u001b[0m \u001b[0mlinear_svc\u001b[0m\u001b[1;33m.\u001b[0m\u001b[0mpredict\u001b[0m\u001b[1;33m(\u001b[0m\u001b[0mtest\u001b[0m\u001b[1;33m)\u001b[0m\u001b[1;33m\u001b[0m\u001b[0m\n\u001b[0m",
      "\u001b[1;32m~\\Anaconda3\\lib\\site-packages\\sklearn\\svm\\base.py\u001b[0m in \u001b[0;36mpredict\u001b[1;34m(self, X)\u001b[0m\n\u001b[0;32m    546\u001b[0m             \u001b[0mClass\u001b[0m \u001b[0mlabels\u001b[0m \u001b[1;32mfor\u001b[0m \u001b[0msamples\u001b[0m \u001b[1;32min\u001b[0m \u001b[0mX\u001b[0m\u001b[1;33m.\u001b[0m\u001b[1;33m\u001b[0m\u001b[0m\n\u001b[0;32m    547\u001b[0m         \"\"\"\n\u001b[1;32m--> 548\u001b[1;33m         \u001b[0my\u001b[0m \u001b[1;33m=\u001b[0m \u001b[0msuper\u001b[0m\u001b[1;33m(\u001b[0m\u001b[0mBaseSVC\u001b[0m\u001b[1;33m,\u001b[0m \u001b[0mself\u001b[0m\u001b[1;33m)\u001b[0m\u001b[1;33m.\u001b[0m\u001b[0mpredict\u001b[0m\u001b[1;33m(\u001b[0m\u001b[0mX\u001b[0m\u001b[1;33m)\u001b[0m\u001b[1;33m\u001b[0m\u001b[0m\n\u001b[0m\u001b[0;32m    549\u001b[0m         \u001b[1;32mreturn\u001b[0m \u001b[0mself\u001b[0m\u001b[1;33m.\u001b[0m\u001b[0mclasses_\u001b[0m\u001b[1;33m.\u001b[0m\u001b[0mtake\u001b[0m\u001b[1;33m(\u001b[0m\u001b[0mnp\u001b[0m\u001b[1;33m.\u001b[0m\u001b[0masarray\u001b[0m\u001b[1;33m(\u001b[0m\u001b[0my\u001b[0m\u001b[1;33m,\u001b[0m \u001b[0mdtype\u001b[0m\u001b[1;33m=\u001b[0m\u001b[0mnp\u001b[0m\u001b[1;33m.\u001b[0m\u001b[0mintp\u001b[0m\u001b[1;33m)\u001b[0m\u001b[1;33m)\u001b[0m\u001b[1;33m\u001b[0m\u001b[0m\n\u001b[0;32m    550\u001b[0m \u001b[1;33m\u001b[0m\u001b[0m\n",
      "\u001b[1;32m~\\Anaconda3\\lib\\site-packages\\sklearn\\svm\\base.py\u001b[0m in \u001b[0;36mpredict\u001b[1;34m(self, X)\u001b[0m\n\u001b[0;32m    306\u001b[0m         \u001b[0my_pred\u001b[0m \u001b[1;33m:\u001b[0m \u001b[0marray\u001b[0m\u001b[1;33m,\u001b[0m \u001b[0mshape\u001b[0m \u001b[1;33m(\u001b[0m\u001b[0mn_samples\u001b[0m\u001b[1;33m,\u001b[0m\u001b[1;33m)\u001b[0m\u001b[1;33m\u001b[0m\u001b[0m\n\u001b[0;32m    307\u001b[0m         \"\"\"\n\u001b[1;32m--> 308\u001b[1;33m         \u001b[0mX\u001b[0m \u001b[1;33m=\u001b[0m \u001b[0mself\u001b[0m\u001b[1;33m.\u001b[0m\u001b[0m_validate_for_predict\u001b[0m\u001b[1;33m(\u001b[0m\u001b[0mX\u001b[0m\u001b[1;33m)\u001b[0m\u001b[1;33m\u001b[0m\u001b[0m\n\u001b[0m\u001b[0;32m    309\u001b[0m         \u001b[0mpredict\u001b[0m \u001b[1;33m=\u001b[0m \u001b[0mself\u001b[0m\u001b[1;33m.\u001b[0m\u001b[0m_sparse_predict\u001b[0m \u001b[1;32mif\u001b[0m \u001b[0mself\u001b[0m\u001b[1;33m.\u001b[0m\u001b[0m_sparse\u001b[0m \u001b[1;32melse\u001b[0m \u001b[0mself\u001b[0m\u001b[1;33m.\u001b[0m\u001b[0m_dense_predict\u001b[0m\u001b[1;33m\u001b[0m\u001b[0m\n\u001b[0;32m    310\u001b[0m         \u001b[1;32mreturn\u001b[0m \u001b[0mpredict\u001b[0m\u001b[1;33m(\u001b[0m\u001b[0mX\u001b[0m\u001b[1;33m)\u001b[0m\u001b[1;33m\u001b[0m\u001b[0m\n",
      "\u001b[1;32m~\\Anaconda3\\lib\\site-packages\\sklearn\\svm\\base.py\u001b[0m in \u001b[0;36m_validate_for_predict\u001b[1;34m(self, X)\u001b[0m\n\u001b[0;32m    457\u001b[0m             raise ValueError(\"X.shape[1] = %d should be equal to %d, \"\n\u001b[0;32m    458\u001b[0m                              \u001b[1;34m\"the number of features at training time\"\u001b[0m \u001b[1;33m%\u001b[0m\u001b[1;33m\u001b[0m\u001b[0m\n\u001b[1;32m--> 459\u001b[1;33m                              (n_features, self.shape_fit_[1]))\n\u001b[0m\u001b[0;32m    460\u001b[0m         \u001b[1;32mreturn\u001b[0m \u001b[0mX\u001b[0m\u001b[1;33m\u001b[0m\u001b[0m\n\u001b[0;32m    461\u001b[0m \u001b[1;33m\u001b[0m\u001b[0m\n",
      "\u001b[1;31mValueError\u001b[0m: X.shape[1] = 100 should be equal to 121, the number of features at training time"
     ]
    }
   ],
   "source": [
    "test_prediction = linear_svc.predict(test)"
   ]
  },
  {
   "cell_type": "code",
   "execution_count": null,
   "metadata": {
    "collapsed": true
   },
   "outputs": [],
   "source": []
  }
 ],
 "metadata": {
  "kernelspec": {
   "display_name": "Python 3",
   "language": "python",
   "name": "python3"
  },
  "language_info": {
   "codemirror_mode": {
    "name": "ipython",
    "version": 3
   },
   "file_extension": ".py",
   "mimetype": "text/x-python",
   "name": "python",
   "nbconvert_exporter": "python",
   "pygments_lexer": "ipython3",
   "version": "3.6.3"
  }
 },
 "nbformat": 4,
 "nbformat_minor": 2
}
